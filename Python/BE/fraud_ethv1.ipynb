{
 "cells": [
  {
   "cell_type": "code",
   "execution_count": null,
   "id": "83bf4665",
   "metadata": {},
   "outputs": [],
   "source": [
    "!pip install xgboost\n",
    "!pip install lightgbm"
   ]
  },
  {
   "cell_type": "code",
   "execution_count": null,
   "id": "e4e42e03",
   "metadata": {},
   "outputs": [],
   "source": [
    "import numpy as np\n",
    "import pandas as pd\n",
    "pd.set_option('display.max_columns', None)\n",
    "import matplotlib.pyplot as plt\n",
    "import seaborn as sns\n",
    "from sklearn.model_selection import StratifiedKFold, cross_validate, learning_curve, RandomizedSearchCV, train_test_split\n",
    "from sklearn.metrics import f1_score, roc_auc_score, plot_confusion_matrix, accuracy_score\n",
    "from sklearn.pipeline import Pipeline, make_pipeline\n",
    "from sklearn.impute import SimpleImputer\n",
    "from sklearn.preprocessing import StandardScaler\n",
    "from sklearn.linear_model import LogisticRegression\n",
    "from sklearn.ensemble import RandomForestClassifier, GradientBoostingClassifier, AdaBoostClassifier\n",
    "from sklearn.svm import SVC\n",
    "from sklearn.neural_network import MLPClassifier\n",
    "from sklearn.neighbors import KNeighborsClassifier\n",
    "from sklearn.naive_bayes import GaussianNB\n",
    "import xgboost as xgb\n",
    "import lightgbm as lgb\n",
    "\n",
    "import os"
   ]
  },
  {
   "cell_type": "code",
   "execution_count": null,
   "id": "b2a145c8",
   "metadata": {},
   "outputs": [],
   "source": [
    "ds = pd.read_csv('transaction_dataset.csv', index_col=[0])\n",
    "ds.drop(columns='Index', inplace=True)"
   ]
  },
  {
   "cell_type": "code",
   "execution_count": null,
   "id": "356f1475",
   "metadata": {},
   "outputs": [],
   "source": [
    "print(ds.shape)\n",
    "ds.sample(3)"
   ]
  },
  {
   "cell_type": "code",
   "execution_count": null,
   "id": "711cee94",
   "metadata": {},
   "outputs": [],
   "source": [
    "ds.drop(columns=[' ERC20 avg time between rec tnx', ' ERC20 avg time between rec 2 tnx', ' ERC20 avg time between contract tnx',\n",
    "                 ' ERC20 min val sent contract', ' ERC20 max val sent contract', ' ERC20 avg val sent contract', ' ERC20 avg time between sent tnx'], inplace=True)"
   ]
  },
  {
   "cell_type": "code",
   "execution_count": null,
   "id": "2dce177c",
   "metadata": {},
   "outputs": [],
   "source": [
    "missing_values = ds.isna()\n",
    "missing_percent = missing_values.sum() / ds.shape[0] * 100\n",
    "missing_df = pd.DataFrame([missing_values.sum(), missing_percent], ['count', 'percent'])\n",
    "display(missing_df.sort_values(by='percent', axis=1, ascending=False))\n",
    "missing_df.sort_values(by='percent', axis=1, ascending=False).to_csv('missing.csv')\n",
    "\n",
    "sns.heatmap(missing_values, cbar=False, cmap='magma')\n",
    "plt.show()"
   ]
  },
  {
   "cell_type": "code",
   "execution_count": null,
   "id": "6deaf4f1",
   "metadata": {},
   "outputs": [],
   "source": [
    "non_fraud_rows, fraud_rows = np.where( [ds.iloc[:,0]==1] )\n",
    "print(ds.iloc[fraud_rows,:].isna().sum()[-20:])"
   ]
  },
  {
   "cell_type": "code",
   "execution_count": null,
   "id": "a80fb762",
   "metadata": {},
   "outputs": [],
   "source": [
    "preprocessing_pipeline = Pipeline([\n",
    "    ('impoter', SimpleImputer(strategy='mean')),\n",
    "    ('scaler', StandardScaler())\n",
    "])\n",
    "\n",
    "X = ds.drop(columns='FLAG').to_numpy()\n",
    "y = ds['FLAG'].to_numpy()\n",
    "\n",
    "random_permutation = np.random.permutation(len(X))\n",
    "X = X[random_permutation]\n",
    "y = y[random_permutation]"
   ]
  },
  {
   "cell_type": "code",
   "execution_count": null,
   "id": "c86956e1",
   "metadata": {},
   "outputs": [],
   "source": [
    "X_train, X_test, y_train, y_test = train_test_split(X, y, train_size=0.8)\n",
    "\n",
    "X_train = preprocessing_pipeline.fit_transform(X_train)\n",
    "X_test = preprocessing_pipeline.transform(X_test)"
   ]
  },
  {
   "cell_type": "code",
   "execution_count": null,
   "id": "742994de",
   "metadata": {},
   "outputs": [],
   "source": []
  }
 ],
 "metadata": {
  "kernelspec": {
   "display_name": "conda_amazonei_mxnet_p36",
   "language": "python",
   "name": "conda_amazonei_mxnet_p36"
  },
  "language_info": {
   "codemirror_mode": {
    "name": "ipython",
    "version": 3
   },
   "file_extension": ".py",
   "mimetype": "text/x-python",
   "name": "python",
   "nbconvert_exporter": "python",
   "pygments_lexer": "ipython3",
   "version": "3.6.13"
  }
 },
 "nbformat": 4,
 "nbformat_minor": 5
}
